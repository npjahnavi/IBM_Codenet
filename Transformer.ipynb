{
 "cells": [
  {
   "cell_type": "code",
   "execution_count": 1,
   "id": "b81e701b",
   "metadata": {},
   "outputs": [],
   "source": [
    "import keras\n",
    "import numpy as np\n",
    "import pandas as pd\n",
    "import os\n",
    "import random\n",
    "import tensorflow as tf\n",
    "import json\n",
    "import pickle\n",
    "\n",
    "from keras.layers import Input, Dense, MultiHeadAttention, LayerNormalization, Add, Embedding, Dropout, Flatten, LocallyConnected1D\n",
    "from keras.models import Model, load_model\n",
    "from keras.callbacks import ModelCheckpoint\n",
    "\n"
   ]
  },
  {
   "cell_type": "code",
   "execution_count": 2,
   "id": "e820d808",
   "metadata": {},
   "outputs": [
    {
     "ename": "AttributeError",
     "evalue": "module 'keras' has no attribute 'preprocessing'",
     "output_type": "error",
     "traceback": [
      "\u001b[0;31m---------------------------------------------------------------------------\u001b[0m",
      "\u001b[0;31mAttributeError\u001b[0m                            Traceback (most recent call last)",
      "\u001b[0;32m/var/folders/63/bhtnrx_s4qz9c77b076z4mpr0000gn/T/ipykernel_89808/227282967.py\u001b[0m in \u001b[0;36m<module>\u001b[0;34m\u001b[0m\n\u001b[1;32m      5\u001b[0m \u001b[0;31m#     tokenizer = pickle.load(handle)\u001b[0m\u001b[0;34m\u001b[0m\u001b[0;34m\u001b[0m\u001b[0m\n\u001b[1;32m      6\u001b[0m \u001b[0;34m\u001b[0m\u001b[0m\n\u001b[0;32m----> 7\u001b[0;31m tokenizer = keras.preprocessing.text.tokenizer_from_json(\n\u001b[0m\u001b[1;32m      8\u001b[0m     \u001b[0mjson_string\u001b[0m\u001b[0;34m\u001b[0m\u001b[0;34m\u001b[0m\u001b[0m\n\u001b[1;32m      9\u001b[0m )\n",
      "\u001b[0;31mAttributeError\u001b[0m: module 'keras' has no attribute 'preprocessing'"
     ]
    }
   ],
   "source": [
    "with open('tokenizer.json') as f:\n",
    "  json_string = json.load(f)\n",
    "\n",
    "# with open('drive/MyDrive/samples/tokenizer.json', 'rb') as handle:\n",
    "#     tokenizer = pickle.load(handle)\n",
    "\n",
    "tokenizer = keras.preprocessing.text.tokenizer_from_json(\n",
    "    json_string\n",
    ")\n",
    "# keys = tokenizer.word_index.keys()\n",
    "\n",
    "# drop = []\n",
    "# drop_index = []\n",
    "\n",
    "# for key in keys:\n",
    "#   if tokenizer.word_index[key] >= 10000:\n",
    "#     drop.append(key)\n",
    "#     drop_index.append(tokenizer.word_index[key])\n",
    "\n",
    "# print(len(drop))\n",
    "\n",
    "# [tokenizer.word_index.pop(key) for key in drop]\n",
    "# [tokenizer.index_word.pop(key) for key in drop_index]\n",
    "# print(type(tokenizer.word_index))\n",
    "\n",
    "\n",
    "\n",
    "dictionary_dim = len(tokenizer.word_index)\n",
    "\n",
    "# print(dictionary_dim)\n",
    "\n",
    "# tokenizer.word_index['<PAD>'] = 0\n",
    "# tokenizer.index_word[0] = '<PAD>'\n",
    "\n",
    "# tokenizer.word_index['<START>'] = dictionary_dim-1\n",
    "# tokenizer.index_word[dictionary_dim-1] = '<START>'\n",
    "\n",
    "# tokenizer.word_index['<END>'] = dictionary_dim"
   ]
  },
  {
   "cell_type": "code",
   "execution_count": 3,
   "id": "08699545",
   "metadata": {},
   "outputs": [
    {
     "ename": "NameError",
     "evalue": "name 'tokenizer' is not defined",
     "output_type": "error",
     "traceback": [
      "\u001b[0;31m---------------------------------------------------------------------------\u001b[0m",
      "\u001b[0;31mNameError\u001b[0m                                 Traceback (most recent call last)",
      "\u001b[0;32m/var/folders/63/bhtnrx_s4qz9c77b076z4mpr0000gn/T/ipykernel_89808/3046578342.py\u001b[0m in \u001b[0;36m<module>\u001b[0;34m\u001b[0m\n\u001b[0;32m----> 1\u001b[0;31m \u001b[0mtokenizer\u001b[0m\u001b[0;34m.\u001b[0m\u001b[0mword_index\u001b[0m\u001b[0;34m[\u001b[0m\u001b[0;34m\"\\n\"\u001b[0m\u001b[0;34m]\u001b[0m\u001b[0;34m\u001b[0m\u001b[0;34m\u001b[0m\u001b[0m\n\u001b[0m",
      "\u001b[0;31mNameError\u001b[0m: name 'tokenizer' is not defined"
     ]
    }
   ],
   "source": [
    "tokenizer.word_index[\"\\n\"]"
   ]
  },
  {
   "cell_type": "code",
   "execution_count": null,
   "id": "b029968d",
   "metadata": {},
   "outputs": [],
   "source": []
  }
 ],
 "metadata": {
  "kernelspec": {
   "display_name": "Python 3 (ipykernel)",
   "language": "python",
   "name": "python3"
  },
  "language_info": {
   "codemirror_mode": {
    "name": "ipython",
    "version": 3
   },
   "file_extension": ".py",
   "mimetype": "text/x-python",
   "name": "python",
   "nbconvert_exporter": "python",
   "pygments_lexer": "ipython3",
   "version": "3.9.7"
  }
 },
 "nbformat": 4,
 "nbformat_minor": 5
}
